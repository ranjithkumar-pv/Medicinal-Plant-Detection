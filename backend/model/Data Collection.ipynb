{
 "cells": [
  {
   "cell_type": "code",
   "execution_count": 1,
   "id": "1a7d7475",
   "metadata": {},
   "outputs": [
    {
     "name": "stdout",
     "output_type": "stream",
     "text": [
      "CUDA Available: True\n",
      "Torch version: 2.7.1+cu118\n",
      "Device: cuda\n"
     ]
    }
   ],
   "source": [
    "import torch\n",
    "print(\"CUDA Available:\", torch.cuda.is_available())\n",
    "print(\"Torch version:\", torch.__version__)\n",
    "print(\"Device:\", torch.device(\"cuda\" if torch.cuda.is_available() else \"cpu\"))"
   ]
  },
  {
   "cell_type": "code",
   "execution_count": 1,
   "id": "1cc439cb",
   "metadata": {},
   "outputs": [
    {
     "name": "stdout",
     "output_type": "stream",
     "text": [
      "PyTorch version: 2.7.1+cu118\n",
      "CUDA available: True\n",
      "Device name: NVIDIA GeForce RTX 2050\n"
     ]
    }
   ],
   "source": [
    "import torch\n",
    "\n",
    "print(\"PyTorch version:\", torch.__version__)\n",
    "print(\"CUDA available:\", torch.cuda.is_available())\n",
    "print(\"Device name:\", torch.cuda.get_device_name(0) if torch.cuda.is_available() else \"CPU only\")\n"
   ]
  },
  {
   "cell_type": "code",
   "execution_count": null,
   "id": "a1ec0e68",
   "metadata": {},
   "outputs": [],
   "source": [
    "from icrawler.builtin import GoogleImageCrawler, BingImageCrawler\n",
    "import os\n",
    "\n",
    "# Medicinal plants with multiple queries\n",
    "plant_queries = {\n",
    "    \"Tulsi\": [\"Tulsi plant\", \"Tulsi leaf\", \"Holy Basil plant\", \"Ocimum tenuiflorum\"],\n",
    "    \"Neem\": [\"Neem plant\", \"Neem leaf\", \"Azadirachta indica plant\"],\n",
    "    \"Aloe_Vera\": [\"Aloe Vera plant\", \"Aloe Vera leaf\", \"Aloe Barbadensis\"],\n",
    "    \"Curry_Leaves\": [\"Curry leaves plant\", \"Kadi Patta plant\", \"Murraya koenigii\"],\n",
    "    \"Peppermint\": [\"Peppermint plant\", \"Mint leaf\", \"Mentha piperita\"],\n",
    "    \"Betel_Leaf\": [\"Betel leaf plant\", \"Paan leaf\", \"Piper betle\"],\n",
    "    \"Coriander\": [\"Coriander plant\", \"Cilantro leaves\", \"Coriandrum sativum\"],\n",
    "    \"Lemongrass\": [\"Lemongrass plant\", \"Cymbopogon plant\"],\n",
    "    \"Hibiscus\": [\"Hibiscus plant\", \"Hibiscus flower\", \"Hibiscus rosa-sinensis\"],\n",
    "    \"Brahmi\": [\"Brahmi plant\", \"Bacopa monnieri plant\"],\n",
    "    \"Gotu_Kola\": [\"Gotu Kola plant\", \"Centella asiatica\"],\n",
    "    \"Henna\": [\"Henna plant\", \"Mehndi leaves\", \"Lawsonia inermis\"],\n",
    "    \"Guava_Leaf\": [\"Guava leaf\", \"Psidium guajava leaves\"],\n",
    "    \"Omavalli\": [\"Omavalli plant\", \"Indian Borage\", \"Karpooravalli plant\"],\n",
    "    \"Bay_Leaf\": [\"Bay leaf plant\", \"Tej Patta plant\", \"Laurus nobilis\"]\n",
    "}\n",
    "\n",
    "# Base dataset directory\n",
    "base_dir = \"plants_dataset\"\n",
    "os.makedirs(base_dir, exist_ok=True)\n",
    "\n",
    "# Function to download from one engine\n",
    "def download_from_engine(crawler_class, query, plant_dir, start_idx, remaining):\n",
    "    if remaining <= 0:\n",
    "        return 0\n",
    "    num_to_download = min(120, remaining)  # max 120 per query\n",
    "    crawler = crawler_class(storage={\"root_dir\": plant_dir})\n",
    "    crawler.crawl(keyword=query, max_num=num_to_download,\n",
    "                  file_idx_offset=start_idx, min_size=(128, 128))\n",
    "    return num_to_download\n",
    "\n",
    "# Loop through plants\n",
    "for plant, queries in plant_queries.items():\n",
    "    print(f\"\\n Collecting images for {plant}...\")\n",
    "    plant_dir = os.path.join(base_dir, plant)\n",
    "    os.makedirs(plant_dir, exist_ok=True)\n",
    "\n",
    "    file_idx = 0\n",
    "    total_downloaded = 0\n",
    "    max_images = 400  # limit\n",
    "\n",
    "    for query in queries:\n",
    "        if total_downloaded >= max_images:\n",
    "            break\n",
    "        print(f\" Query: {query}\")\n",
    "\n",
    "        # Google\n",
    "        got = download_from_engine(GoogleImageCrawler, query, plant_dir, file_idx, max_images - total_downloaded)\n",
    "        total_downloaded += got\n",
    "        file_idx += got\n",
    "\n",
    "        if total_downloaded >= max_images:\n",
    "            break\n",
    "\n",
    "        # Bing\n",
    "        got = download_from_engine(BingImageCrawler, query, plant_dir, file_idx, max_images - total_downloaded)\n",
    "        total_downloaded += got\n",
    "        file_idx += got\n",
    "\n",
    "        if total_downloaded >= max_images:\n",
    "            break\n",
    "\n",
    "    print(f\" {plant}: Downloaded {total_downloaded} images (max 400)\")\n",
    "\n",
    "print(\"\\n All plant images downloaded!\")"
   ]
  }
 ],
 "metadata": {
  "kernelspec": {
   "display_name": "Python 3",
   "language": "python",
   "name": "python3"
  },
  "language_info": {
   "codemirror_mode": {
    "name": "ipython",
    "version": 3
   },
   "file_extension": ".py",
   "mimetype": "text/x-python",
   "name": "python",
   "nbconvert_exporter": "python",
   "pygments_lexer": "ipython3",
   "version": "3.9.0"
  }
 },
 "nbformat": 4,
 "nbformat_minor": 5
}
